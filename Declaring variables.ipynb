{
  "nbformat": 4,
  "nbformat_minor": 0,
  "metadata": {
    "colab": {
      "provenance": [],
      "authorship_tag": "ABX9TyN5r2FrxOtMylFBRPFgCbqW",
      "include_colab_link": true
    },
    "kernelspec": {
      "name": "python3",
      "display_name": "Python 3"
    },
    "language_info": {
      "name": "python"
    }
  },
  "cells": [
    {
      "cell_type": "markdown",
      "metadata": {
        "id": "view-in-github",
        "colab_type": "text"
      },
      "source": [
        "<a href=\"https://colab.research.google.com/github/Victor-Gentle/Victor-Gentle/blob/main/Declaring%20variables.ipynb\" target=\"_parent\"><img src=\"https://colab.research.google.com/assets/colab-badge.svg\" alt=\"Open In Colab\"/></a>"
      ]
    },
    {
      "cell_type": "code",
      "execution_count": 1,
      "metadata": {
        "colab": {
          "base_uri": "https://localhost:8080/"
        },
        "id": "CDqxl_yziu3j",
        "outputId": "83c786fb-b55a-4f04-f44b-fb707bf5322b"
      },
      "outputs": [
        {
          "output_type": "stream",
          "name": "stdout",
          "text": [
            "Hello, World!\n"
          ]
        }
      ],
      "source": [
        "print('Hello, World!')"
      ]
    },
    {
      "cell_type": "code",
      "source": [
        "savingsAccount = 10000\n",
        "rate = 0.75\n",
        "# the interest is the product of savings and rate\n",
        "interest = savingsAccount * rate\n",
        "\n",
        "print(\"Your account balance was\", savingsAccount, \"$\\nYou earned\", interest, \"$ this year\")\n",
        "\n",
        "#exploring other operators\n",
        "savingsAccount += 100\n",
        "print(savingsAccount)"
      ],
      "metadata": {
        "colab": {
          "base_uri": "https://localhost:8080/"
        },
        "id": "_VmaklOfrC-s",
        "outputId": "566a2e6c-e1d9-4201-9bdc-25a6b2dfcca7"
      },
      "execution_count": 6,
      "outputs": [
        {
          "output_type": "stream",
          "name": "stdout",
          "text": [
            "Your account balance was 10000 $\n",
            "You earned 7500.0 $ this year\n",
            "10100\n"
          ]
        }
      ]
    }
  ]
}